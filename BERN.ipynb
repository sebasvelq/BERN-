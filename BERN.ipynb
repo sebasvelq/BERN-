{
 "cells": [
  {
   "cell_type": "code",
   "execution_count": 9,
   "id": "28175480",
   "metadata": {},
   "outputs": [
    {
     "name": "stderr",
     "output_type": "stream",
     "text": [
      "C:\\Users\\gigim\\AppData\\Local\\Temp\\ipykernel_8584\\3434250453.py:4: DtypeWarning: Columns (16) have mixed types. Specify dtype option on import or set low_memory=False.\n",
      "  df_data = pd.read_csv('complaints.csv')\n"
     ]
    },
    {
     "name": "stdout",
     "output_type": "stream",
     "text": [
      "  Date received                                            Product  \\\n",
      "0    2024-10-17  Credit reporting or other personal consumer re...   \n",
      "1    2024-10-17  Credit reporting or other personal consumer re...   \n",
      "2    2024-10-17  Credit reporting or other personal consumer re...   \n",
      "3    2024-10-17  Credit reporting or other personal consumer re...   \n",
      "4    2024-10-17  Credit reporting or other personal consumer re...   \n",
      "\n",
      "        Sub-product                                              Issue  \\\n",
      "0  Credit reporting               Incorrect information on your report   \n",
      "1  Credit reporting               Incorrect information on your report   \n",
      "2  Credit reporting               Incorrect information on your report   \n",
      "3  Credit reporting               Incorrect information on your report   \n",
      "4  Credit reporting  Problem with a company's investigation into an...   \n",
      "\n",
      "                              Sub-issue Consumer complaint narrative  \\\n",
      "0         Account information incorrect                          NaN   \n",
      "1   Information belongs to someone else                          NaN   \n",
      "2         Account information incorrect                          NaN   \n",
      "3         Account information incorrect                          NaN   \n",
      "4  Investigation took more than 30 days                          NaN   \n",
      "\n",
      "  Company public response                                 Company State  \\\n",
      "0                     NaN  TRANSUNION INTERMEDIATE HOLDINGS, INC.    SC   \n",
      "1                     NaN  TRANSUNION INTERMEDIATE HOLDINGS, INC.    AL   \n",
      "2                     NaN                           EQUIFAX, INC.    CA   \n",
      "3                     NaN                           EQUIFAX, INC.    NY   \n",
      "4                     NaN  TRANSUNION INTERMEDIATE HOLDINGS, INC.    NY   \n",
      "\n",
      "  ZIP code Tags Consumer consent provided? Submitted via Date sent to company  \\\n",
      "0    29161  NaN                        NaN           Web           2024-10-17   \n",
      "1    35209  NaN                        NaN           Web           2024-10-17   \n",
      "2    91316  NaN                        NaN           Web           2024-10-17   \n",
      "3    11413  NaN                        NaN           Web           2024-10-17   \n",
      "4    11434  NaN                        NaN           Web           2024-10-17   \n",
      "\n",
      "  Company response to consumer Timely response? Consumer disputed?  \\\n",
      "0                  In progress              Yes                NaN   \n",
      "1                  In progress              Yes                NaN   \n",
      "2                  In progress              Yes                NaN   \n",
      "3                  In progress              Yes                NaN   \n",
      "4                  In progress              Yes                NaN   \n",
      "\n",
      "   Complaint ID  \n",
      "0      10493720  \n",
      "1      10483298  \n",
      "2      10493015  \n",
      "3      10493022  \n",
      "4      10483162  \n"
     ]
    }
   ],
   "source": [
    "import pandas as pd\n",
    "\n",
    "# Cargar el archivo CSV en un DataFrame\n",
    "df_data = pd.read_csv('complaints.csv')\n",
    "\n",
    "# Mostrar las primeras filas del DataFrame para verificar el contenido\n",
    "print(df_data.head())\n"
   ]
  },
  {
   "cell_type": "code",
   "execution_count": 12,
   "id": "033ee63e",
   "metadata": {},
   "outputs": [
    {
     "name": "stdout",
     "output_type": "stream",
     "text": [
      "\n",
      "Algunas filas de 'Consumer complaint narrative' con texto:\n",
      "406    This agency is violating your consumer rights ...\n",
      "483    I made a purchase, order # XXXX, from XXXX XXX...\n",
      "544    You are in violation of 15 USC 1681s- ( 2 ) ( ...\n",
      "565    Subject : TransUnion 's Violation of the Fair ...\n",
      "582    I am writing to address the ongoing inaccuraci...\n",
      "Name: Consumer complaint narrative, dtype: object\n",
      "\n",
      "Número de filas con texto en 'Consumer complaint narrative': 5000\n",
      "Total de filas en el DataFrame: 6486747\n"
     ]
    }
   ],
   "source": [
    "df_filtered = df_data.dropna(subset=['Consumer complaint narrative'])\n",
    "# Mostrar las filas con texto en 'Consumer complaint narrative'\n",
    "textual_data = df_data[df_data['Consumer complaint narrative'].notna()]\n",
    "df_filtered_1 = df_filtered.sample(n=5000, random_state=42)\n",
    "\n",
    "# Mostrar las primeras filas de esa columna con texto\n",
    "print(\"\\nAlgunas filas de 'Consumer complaint narrative' con texto:\")\n",
    "print(textual_data['Consumer complaint narrative'].head())\n",
    "\n",
    "# Contar el total de filas con texto y el total de filas del DataFrame\n",
    "num_texts = df_filtered_1.shape[0]\n",
    "total_rows = df_data.shape[0]\n",
    "\n",
    "# Imprimir los resultados\n",
    "print(f\"\\nNúmero de filas con texto en 'Consumer complaint narrative': {num_texts}\")\n",
    "print(f\"Total de filas en el DataFrame: {total_rows}\")"
   ]
  },
  {
   "cell_type": "code",
   "execution_count": 13,
   "id": "bc7a417f-d689-41e1-ae31-c5c2f1e34a20",
   "metadata": {},
   "outputs": [
    {
     "name": "stderr",
     "output_type": "stream",
     "text": [
      "[nltk_data] Downloading package punkt_tab to\n",
      "[nltk_data]     C:\\Users\\gigim\\AppData\\Roaming\\nltk_data...\n",
      "[nltk_data]   Package punkt_tab is already up-to-date!\n",
      "[nltk_data] Downloading package stopwords to\n",
      "[nltk_data]     C:\\Users\\gigim\\AppData\\Roaming\\nltk_data...\n",
      "[nltk_data]   Package stopwords is already up-to-date!\n",
      "[nltk_data] Downloading package wordnet to\n",
      "[nltk_data]     C:\\Users\\gigim\\AppData\\Roaming\\nltk_data...\n",
      "[nltk_data]   Package wordnet is already up-to-date!\n",
      "[nltk_data] Downloading package punkt to\n",
      "[nltk_data]     C:\\Users\\gigim\\AppData\\Roaming\\nltk_data...\n",
      "[nltk_data]   Package punkt is already up-to-date!\n",
      "[nltk_data] Downloading package stopwords to\n",
      "[nltk_data]     C:\\Users\\gigim\\AppData\\Roaming\\nltk_data...\n",
      "[nltk_data]   Package stopwords is already up-to-date!\n",
      "[nltk_data] Downloading package wordnet to\n",
      "[nltk_data]     C:\\Users\\gigim\\AppData\\Roaming\\nltk_data...\n",
      "[nltk_data]   Package wordnet is already up-to-date!\n"
     ]
    },
    {
     "name": "stdout",
     "output_type": "stream",
     "text": [
      "                              Consumer complaint narrative  \\\n",
      "2843302  I filed a dispute for incorrect information on...   \n",
      "816632   In the quiet humdrum of everyday life, a sudde...   \n",
      "572851   In accordance with the Fair Credit Reporting A...   \n",
      "3388965  In accordance with the Fair Credit Reporting a...   \n",
      "3110399  I have tried on numerous occasions to get Lexi...   \n",
      "\n",
      "                                            processed_text  \n",
      "2843302  filed dispute incorrect information credit rep...  \n",
      "816632   quiet humdrum everyday life sudden jolt shatte...  \n",
      "572851   accordance fair credit reporting act account x...  \n",
      "3388965  accordance fair credit reporting act list acco...  \n",
      "3110399  tried numerous occasion get lexis nexis remove...  \n"
     ]
    }
   ],
   "source": [
    "import nltk\n",
    "from nltk.corpus import stopwords\n",
    "from nltk.tokenize import word_tokenize\n",
    "from nltk.stem import WordNetLemmatizer\n",
    "import string\n",
    "import nltk\n",
    "import nltk\n",
    "# Descargar recursos necesarios para nltk \n",
    "nltk.download('punkt_tab')\n",
    "nltk.download('stopwords')\n",
    "nltk.download('wordnet')\n",
    "nltk.download('punkt')\n",
    "nltk.download('stopwords')\n",
    "nltk.download('wordnet')\n",
    "\n",
    "# Función para preprocesar el texto\n",
    "def preprocess_text(text):\n",
    "    # Convertir a minúsculas\n",
    "    text = text.lower()\n",
    "    # Eliminar puntuación\n",
    "    text = text.translate(str.maketrans('', '', string.punctuation))\n",
    "    # Tokenizar el texto\n",
    "    tokens = word_tokenize(text)\n",
    "    # Eliminar stopwords en inglés \n",
    "    tokens = [word for word in tokens if word not in stopwords.words('english')]\n",
    "    # Lematizar \n",
    "    lemmatizer = WordNetLemmatizer()\n",
    "    tokens = [lemmatizer.lemmatize(word) for word in tokens]\n",
    "    return ' '.join(tokens)\n",
    "\n",
    "# Calcular el número de instancias por clase\n",
    "class_counts = df_filtered_1['Product'].value_counts()\n",
    "\n",
    "# Definir un umbral mínimo de instancias por clase \n",
    "min_samples = 200\n",
    "\n",
    "# Filtrar las filas cuyo 'Product' tenga al menos el número mínimo de instancias\n",
    "df_filtered_1 = df_filtered_1[df_filtered_1['Product'].isin(class_counts[class_counts >= min_samples].index)]\n",
    "\n",
    "\n",
    "# Aplicar el preprocesamiento a la columna 'Consumer complaint narrative'\n",
    "df_filtered_1['processed_text'] = df_filtered_1['Consumer complaint narrative'].apply(preprocess_text)\n",
    "\n",
    "# Mostrar algunas filas del texto \n",
    "print(df_filtered_1[['Consumer complaint narrative', 'processed_text']].head())"
   ]
  },
  {
   "cell_type": "code",
   "execution_count": 14,
   "id": "85757acc",
   "metadata": {},
   "outputs": [
    {
     "data": {
      "application/vnd.jupyter.widget-view+json": {
       "model_id": "8b7776c9990e4e549b635b914263a1e3",
       "version_major": 2,
       "version_minor": 0
      },
      "text/plain": [
       "Map:   0%|          | 0/3508 [00:00<?, ? examples/s]"
      ]
     },
     "metadata": {},
     "output_type": "display_data"
    },
    {
     "data": {
      "application/vnd.jupyter.widget-view+json": {
       "model_id": "61e349a305e74192a124f92326424d21",
       "version_major": 2,
       "version_minor": 0
      },
      "text/plain": [
       "Map:   0%|          | 0/878 [00:00<?, ? examples/s]"
      ]
     },
     "metadata": {},
     "output_type": "display_data"
    },
    {
     "name": "stderr",
     "output_type": "stream",
     "text": [
      "Some weights of the model checkpoint at bert-base-uncased were not used when initializing BertForSequenceClassification: ['cls.predictions.transform.dense.bias', 'cls.predictions.transform.LayerNorm.bias', 'cls.seq_relationship.weight', 'cls.predictions.bias', 'cls.seq_relationship.bias', 'cls.predictions.transform.LayerNorm.weight', 'cls.predictions.transform.dense.weight']\n",
      "- This IS expected if you are initializing BertForSequenceClassification from the checkpoint of a model trained on another task or with another architecture (e.g. initializing a BertForSequenceClassification model from a BertForPreTraining model).\n",
      "- This IS NOT expected if you are initializing BertForSequenceClassification from the checkpoint of a model that you expect to be exactly identical (initializing a BertForSequenceClassification model from a BertForSequenceClassification model).\n",
      "Some weights of BertForSequenceClassification were not initialized from the model checkpoint at bert-base-uncased and are newly initialized: ['classifier.weight', 'classifier.bias']\n",
      "You should probably TRAIN this model on a down-stream task to be able to use it for predictions and inference.\n"
     ]
    },
    {
     "data": {
      "text/html": [
       "\n",
       "    <div>\n",
       "      \n",
       "      <progress value='2631' max='2631' style='width:300px; height:20px; vertical-align: middle;'></progress>\n",
       "      [2631/2631 2:30:18, Epoch 3/3]\n",
       "    </div>\n",
       "    <table border=\"1\" class=\"dataframe\">\n",
       "  <thead>\n",
       " <tr style=\"text-align: left;\">\n",
       "      <th>Epoch</th>\n",
       "      <th>Training Loss</th>\n",
       "      <th>Validation Loss</th>\n",
       "      <th>Accuracy</th>\n",
       "      <th>F1</th>\n",
       "    </tr>\n",
       "  </thead>\n",
       "  <tbody>\n",
       "    <tr>\n",
       "      <td>1</td>\n",
       "      <td>1.292300</td>\n",
       "      <td>1.099006</td>\n",
       "      <td>0.493166</td>\n",
       "      <td>0.440527</td>\n",
       "    </tr>\n",
       "    <tr>\n",
       "      <td>2</td>\n",
       "      <td>0.997300</td>\n",
       "      <td>1.005201</td>\n",
       "      <td>0.589977</td>\n",
       "      <td>0.544304</td>\n",
       "    </tr>\n",
       "    <tr>\n",
       "      <td>3</td>\n",
       "      <td>0.806900</td>\n",
       "      <td>0.980859</td>\n",
       "      <td>0.657175</td>\n",
       "      <td>0.649211</td>\n",
       "    </tr>\n",
       "  </tbody>\n",
       "</table><p>"
      ],
      "text/plain": [
       "<IPython.core.display.HTML object>"
      ]
     },
     "metadata": {},
     "output_type": "display_data"
    },
    {
     "data": {
      "text/html": [],
      "text/plain": [
       "<IPython.core.display.HTML object>"
      ]
     },
     "metadata": {},
     "output_type": "display_data"
    },
    {
     "name": "stdout",
     "output_type": "stream",
     "text": [
      "                                                                              precision    recall  f1-score   support\n",
      "\n",
      "Credit reporting, credit repair services, or other personal consumer reports       0.68      0.76      0.72       347\n",
      "                         Credit reporting or other personal consumer reports       0.65      0.57      0.61       249\n",
      "                                                 Checking or savings account       0.75      0.51      0.61        41\n",
      "                                                             Debt collection       0.71      0.72      0.71       120\n",
      "                                                                    Mortgage       0.55      0.76      0.64        67\n",
      "                                                 Credit card or prepaid card       0.44      0.22      0.30        54\n",
      "\n",
      "                                                                    accuracy                           0.66       878\n",
      "                                                                   macro avg       0.63      0.59      0.60       878\n",
      "                                                                weighted avg       0.65      0.66      0.65       878\n",
      "\n"
     ]
    }
   ],
   "source": [
    "import pandas as pd\n",
    "import torch\n",
    "from sklearn.model_selection import train_test_split\n",
    "from transformers import BertTokenizer, BertForSequenceClassification, Trainer, TrainingArguments\n",
    "from transformers import DataCollatorWithPadding\n",
    "from sklearn.metrics import classification_report, accuracy_score, f1_score\n",
    "from datasets import Dataset\n",
    "import warnings\n",
    "\n",
    "\n",
    "warnings.filterwarnings(\"ignore\", category=FutureWarning)\n",
    "\n",
    "# 1. Cargar y preparar los datos\n",
    "# Usamos el subconjunto filtrado de 10,000 datos procesados y con clases balanceadas\n",
    "df = df_filtered_1[['processed_text', 'Product']].copy()\n",
    "\n",
    "# Codificar las etiquetas en valores numéricos\n",
    "df['label'] = df['Product'].factorize()[0]\n",
    "label_mapping = dict(zip(df['Product'].factorize()[1], range(df['Product'].nunique())))\n",
    "\n",
    "# Dividir en conjuntos de entrenamiento y prueba\n",
    "train_df, test_df = train_test_split(df, test_size=0.2, random_state=42)\n",
    "\n",
    "# 2. Convertir DataFrame en un formato Dataset para Hugging Face\n",
    "train_dataset = Dataset.from_pandas(train_df)\n",
    "test_dataset = Dataset.from_pandas(test_df)\n",
    "\n",
    "# 3. Tokenizar los datos\n",
    "tokenizer = BertTokenizer.from_pretrained(\"bert-base-uncased\")\n",
    "def tokenize_function(example):\n",
    "    return tokenizer(example[\"processed_text\"], truncation=True)\n",
    "\n",
    "train_dataset = train_dataset.map(tokenize_function, batched=True)\n",
    "test_dataset = test_dataset.map(tokenize_function, batched=True)\n",
    "\n",
    "# 4. Configuración del modelo y entrenamiento\n",
    "model = BertForSequenceClassification.from_pretrained(\"bert-base-uncased\", num_labels=len(label_mapping))\n",
    "\n",
    "# Definir el collator para aplicar padding\n",
    "data_collator = DataCollatorWithPadding(tokenizer=tokenizer)\n",
    "\n",
    "# Definir métrica de evaluación\n",
    "def compute_metrics(eval_pred):\n",
    "    predictions, labels = eval_pred\n",
    "    preds = predictions.argmax(axis=-1)\n",
    "    accuracy = accuracy_score(labels, preds)\n",
    "    f1 = f1_score(labels, preds, average='weighted')\n",
    "    return {\"accuracy\": accuracy, \"f1\": f1}\n",
    "\n",
    "# Configurar los parámetros de entrenamiento (sin fp16)\n",
    "training_args = TrainingArguments(\n",
    "    output_dir=\"./results\",\n",
    "    evaluation_strategy=\"epoch\",\n",
    "    per_device_train_batch_size=4,  # Reducir el batch size si se necesita\n",
    "    per_device_eval_batch_size=4,\n",
    "    num_train_epochs=3,\n",
    "    weight_decay=0.01,\n",
    "    fp16=False  # Desactivar fp16 si no se usa GPU\n",
    ")\n",
    "\n",
    "trainer = Trainer(\n",
    "    model=model,\n",
    "    args=training_args,\n",
    "    train_dataset=train_dataset,\n",
    "    eval_dataset=test_dataset,\n",
    "    tokenizer=tokenizer,\n",
    "    data_collator=data_collator,\n",
    "    compute_metrics=compute_metrics,\n",
    ")\n",
    "\n",
    "# 5. Entrenar el modelo\n",
    "trainer.train()\n",
    "\n",
    "# 6. Evaluar el modelo en el conjunto de prueba\n",
    "predictions = trainer.predict(test_dataset)\n",
    "preds = predictions.predictions.argmax(-1)\n",
    "print(classification_report(test_df['label'], preds, target_names=label_mapping.keys()))\n"
   ]
  },
  {
   "cell_type": "code",
   "execution_count": 17,
   "id": "fd5716f3",
   "metadata": {},
   "outputs": [
    {
     "data": {
      "image/png": "[encoded data removed]",
      "text/plain": [
       "<Figure size 640x480 with 1 Axes>"
      ]
     },
     "metadata": {},
     "output_type": "display_data"
    }
   ],
   "source": [
    "import matplotlib.pyplot as plt\n",
    "# Suponiendo que tienes acceso a los valores de pérdida y exactitud de cada época\n",
    "epochs = [1, 2, 3]  # o el número de épocas que hayas usado\n",
    "training_loss = [1.2533, 0.8277, 0.6423]  # valores de ejemplo\n",
    "validation_loss = [0.8975, 0.8302, 0.9336]\n",
    "\n",
    "# Gráfico de la pérdida\n",
    "plt.plot(epochs, training_loss, label=\"Pérdida de Entrenamiento\", marker='o')\n",
    "plt.plot(epochs, validation_loss, label=\"Pérdida de Validación\", marker='o')\n",
    "plt.xlabel(\"Época\")\n",
    "plt.ylabel(\"Pérdida\")\n",
    "plt.title(\"Curva de Entrenamiento y Validación para BERT\")\n",
    "plt.legend()\n",
    "plt.show()"
   ]
  },
  {
   "cell_type": "code",
   "execution_count": null,
   "id": "15940295-8d3d-44e5-9e70-7ba9ced87d69",
   "metadata": {},
   "outputs": [],
   "source": []
  }
 ],
 "metadata": {
  "kernelspec": {
   "display_name": "Python 3 (ipykernel)",
   "language": "python",
   "name": "python3"
  },
  "language_info": {
   "codemirror_mode": {
    "name": "ipython",
    "version": 3
   },
   "file_extension": ".py",
   "mimetype": "text/x-python",
   "name": "python",
   "nbconvert_exporter": "python",
   "pygments_lexer": "ipython3",
   "version": "3.9.20"
  }
 },
 "nbformat": 4,
 "nbformat_minor": 5
}
